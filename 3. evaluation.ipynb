{
 "cells": [
  {
   "cell_type": "markdown",
   "metadata": {},
   "source": [
    "# Model Evaluation"
   ]
  },
  {
   "cell_type": "markdown",
   "metadata": {},
   "source": [
    "After the model has been trained, the next step is to evaluate the model on the test set that was splitted using the train test split method. This step is necassary in order to find out how the model will perform with unseen data."
   ]
  },
  {
   "cell_type": "markdown",
   "metadata": {},
   "source": [
    "Now, let's import confusion matrix, accuracy score, and ROC AUC score methods for evaluating the models. Also, I will be importing precision score and recall score from sklearn since they are not available in cuML package."
   ]
  },
  {
   "cell_type": "code",
   "execution_count": 167,
   "metadata": {},
   "outputs": [],
   "source": [
    "from cuml.metrics import confusion_matrix\n",
    "from cuml.metrics.accuracy import accuracy_score\n",
    "from cuml.metrics import roc_auc_score\n",
    "from sklearn.metrics import precision_score\n",
    "from sklearn.metrics import recall_score"
   ]
  },
  {
   "cell_type": "markdown",
   "metadata": {},
   "source": [
    "## Random Forest"
   ]
  },
  {
   "cell_type": "markdown",
   "metadata": {},
   "source": [
    "I will use the predictions of the first experiment, since it was the best with standard set of parameters."
   ]
  },
  {
   "cell_type": "code",
   "execution_count": 175,
   "metadata": {
    "tags": []
   },
   "outputs": [
    {
     "name": "stdout",
     "output_type": "stream",
     "text": [
      "Accuracy score:  0.7332103252410889\n",
      "Precision score:  0.7408040170896073\n",
      "Recall score:  0.7636807704416948\n",
      "ROC AUC score:  0.7312757968902588\n"
     ]
    }
   ],
   "source": [
    "print('Accuracy score: ', accuracy_score(y_test, y_pred))\n",
    "print('Precision score: ', precision_score(y_test.values_host, y_pred.values_host))\n",
    "print('Recall score: ', recall_score(y_test.values_host, y_pred.values_host))\n",
    "print('ROC AUC score: ', roc_auc_score(y_test, y_pred))"
   ]
  },
  {
   "cell_type": "code",
   "execution_count": 176,
   "metadata": {},
   "outputs": [
    {
     "data": {
      "text/plain": [
       "array([[722863, 311467],\n",
       "       [275470, 890199]])"
      ]
     },
     "execution_count": 176,
     "metadata": {},
     "output_type": "execute_result"
    }
   ],
   "source": [
    "confusion_matrix(y_test.astype('int32'), y_pred.astype('int32'))"
   ]
  },
  {
   "cell_type": "markdown",
   "metadata": {},
   "source": [
    "It can be seen from the confusion matrix that the number of false positives and false negatives are more. The accuracy and ROC AUC are both approximately 73%, precision is 74%, while recall score is 76%. As, it is evident because of the high volume of data, more predictions are required leading to high recall score."
   ]
  },
  {
   "cell_type": "markdown",
   "metadata": {},
   "source": [
    "## XGBoost"
   ]
  },
  {
   "cell_type": "markdown",
   "metadata": {},
   "source": [
    "The first experiment predictions will be taken for consideration because it was better."
   ]
  },
  {
   "cell_type": "code",
   "execution_count": 177,
   "metadata": {},
   "outputs": [
    {
     "name": "stdout",
     "output_type": "stream",
     "text": [
      "Accuracy score:  0.742078959941864\n",
      "Precision score:  0.7518457679733472\n",
      "Recall score:  0.7660665248882831\n",
      "ROC AUC score:  0.8233452439308167\n"
     ]
    }
   ],
   "source": [
    "print('Accuracy score: ', accuracy_score(y_test, bst_predictions))\n",
    "print('Precision score: ', precision_score(y_test.values_host, bst_predictions))\n",
    "print('Recall score: ', recall_score(y_test.values_host, bst_predictions))\n",
    "print('ROC AUC score: ', roc_auc_score(y_test, bst_pred))"
   ]
  },
  {
   "cell_type": "code",
   "execution_count": 178,
   "metadata": {},
   "outputs": [
    {
     "data": {
      "text/plain": [
       "array([[739593, 294737],\n",
       "       [272689, 892980]])"
      ]
     },
     "execution_count": 178,
     "metadata": {},
     "output_type": "execute_result"
    }
   ],
   "source": [
    "confusion_matrix(y_test.astype('int32'), bst_predictions.astype('int32'))"
   ]
  },
  {
   "cell_type": "markdown",
   "metadata": {},
   "source": [
    "In XGBoost, the false positive is slightly less than Random forest whereas others are almost are same. Here also, the recall is more but there is not much difference between precision and recall. The accuracy and ROC AUC scores are also better than Random Forest. "
   ]
  },
  {
   "cell_type": "markdown",
   "metadata": {},
   "source": [
    "## Benchmark CPU and GPU performance"
   ]
  },
  {
   "cell_type": "markdown",
   "metadata": {},
   "source": [
    "In this section I will compare the performance of both the models in CPU and GPU. Let's import some important packages"
   ]
  },
  {
   "cell_type": "code",
   "execution_count": 55,
   "metadata": {},
   "outputs": [],
   "source": [
    "from timeit import default_timer\n",
    "from cudf import Series\n",
    "import cupy\n",
    "from scipy.sparse import csr_matrix\n",
    "from cuml import RandomForestClassifier as cu_rf\n",
    "from sklearn.ensemble import RandomForestClassifier as skl_rf\n",
    "from sklearn.metrics import accuracy_score as skl_acc"
   ]
  },
  {
   "cell_type": "markdown",
   "metadata": {},
   "source": [
    "### Random Forest"
   ]
  },
  {
   "cell_type": "markdown",
   "metadata": {},
   "source": [
    "This function take in the classifiers and the datasets and will return the training time, prediction time, number of training vectors and accuracy score. The below functions have been taken from the lab materials and have been modified to use with Random Forest."
   ]
  },
  {
   "cell_type": "code",
   "execution_count": 56,
   "metadata": {},
   "outputs": [],
   "source": [
    "def time_rf(clf, X_train, X_test, y_train, y_test):\n",
    "    \"\"\" Helper script to measue time to fit and predict a classifier .\n",
    "    \n",
    "    Parameters:\n",
    "    clf - initialized classifier\n",
    "    X_train - feature vectors for training\n",
    "    X_test - feature vectors for testing\n",
    "    y_train - train labels\n",
    "    y_test - test labels\n",
    "    \n",
    "    Retruns a list of four values [m, t_fit, t_pred, acc]:\n",
    "    m - number of training vectors\n",
    "    t_fit - time to train in seconds\n",
    "    t_pred - time to predict in seconds\n",
    "    acc - accuracy score\n",
    "    \"\"\"\n",
    "    \n",
    "    # Measure time to fit\n",
    "    start = default_timer()\n",
    "    clf.fit(X_train, y_train)\n",
    "    stop = default_timer()\n",
    "    t_fit = stop - start\n",
    "    \n",
    "    # Measure time to predict\n",
    "    start = default_timer()\n",
    "    clf.predict(X_train)\n",
    "    stop = default_timer()\n",
    "    t_pred = stop - start\n",
    "        \n",
    "    # Calculate accuracy\n",
    "    y_pred = clf.predict(X_test)\n",
    "    if isinstance(y_pred, Series):\n",
    "        # calculate accuracy with cuml\n",
    "        acc = cuml.metrics.accuracy_score(y_test, y_pred)\n",
    "    else: \n",
    "        # calculate accuracy with sklearn\n",
    "        acc = skl_acc(y_test, y_pred)\n",
    "        \n",
    "    return [X_train.shape[0], t_fit, t_pred, acc]"
   ]
  },
  {
   "cell_type": "markdown",
   "metadata": {},
   "source": [
    "The below functions intialise the classifiers and send the data to time_rf function. The sklearn training will only be performed till 50000 samples, because it takes time to train on CPU. This is enough to give us the difference in training times between cuML on GPU and sklearn on CPU. Also, the cuDF dataframes are converted to numpy array before passing it to sklearn for training. "
   ]
  },
  {
   "cell_type": "code",
   "execution_count": 57,
   "metadata": {},
   "outputs": [],
   "source": [
    "def cuml_time_rf(X_train, X_test, y_train, y_test, params):\n",
    "    # initalise cuml random forest classifier\n",
    "    clf = cu_rf(**params)\n",
    "    return time_rf(clf, X_train, X_test, y_train, y_test)    \n",
    "\n",
    "def skl_time_rf(X_train, X_test, y_train, y_test, params):\n",
    "    if X_train.shape[0] <= 50000: # cut-off for Sklearn training\n",
    "        clf = skl_rf(**params)\n",
    "        # convert cuDF dataframes to numpy array\n",
    "        X_train = cupy.asnumpy(X_train.values_host)\n",
    "        X_test = cupy.asnumpy(X_test.values_host)\n",
    "        y_train = cupy.asnumpy(y_train)\n",
    "        y_test = cupy.asnumpy(y_test)\n",
    "        return time_rf(clf, X_train, X_test, y_train, y_test)\n",
    "    else:\n",
    "        return [X_train.shape[0], np.nan, np.nan, np.nan]"
   ]
  },
  {
   "cell_type": "markdown",
   "metadata": {},
   "source": [
    "This run_benchmark function will train the models with batches of data so that we see the results as we move ahead in training. It returns the results in matrices with four columns: number of vectors, time to fit, time to predict, and accuracy score."
   ]
  },
  {
   "cell_type": "code",
   "execution_count": 58,
   "metadata": {},
   "outputs": [],
   "source": [
    "def run_benchmark(X_train, X_test, y_train, y_test, m_list, params, run_skl=True, run_cuml=True):\n",
    "    # We store the benchmark results in matrices with four columns: m, t_fit, t_pred, accuracy\n",
    "    res_skl = np.zeros((len(m_list),4)) \n",
    "    res_cuml = np.zeros((len(m_list),4)) \n",
    "        \n",
    "    i = 0\n",
    "    for m in m_list:\n",
    "        X_in = X_train.iloc[:m,:]\n",
    "        y_in = y_train[:m]\n",
    "\n",
    "        if run_cuml:            \n",
    "            res_cuml[i,:] = cuml_time_rf(X_in, X_test, y_in, y_test, params)\n",
    "            print('cuML    time for traning size {:6} is {:4.2f} sec, accuracy {:%}'.format(m, res_cuml[i,1], res_cuml[i,3]))\n",
    "            \n",
    "        if run_skl:\n",
    "            res_skl[i,:] = skl_time_rf(X_in, X_test, y_in, y_test, params)\n",
    "            print('Skl     time for traning size {:6} is {:4.2f} sec, accuracy {:%}'.format(m, res_skl[i,1], res_skl[i,3]))      \n",
    "        i += 1      \n",
    "\n",
    "    return res_cuml, res_skl"
   ]
  },
  {
   "cell_type": "markdown",
   "metadata": {},
   "source": [
    "The parameters are kept at a moderate value, so that even sklearn can handle it, because the dataset is huge."
   ]
  },
  {
   "cell_type": "code",
   "execution_count": 59,
   "metadata": {},
   "outputs": [],
   "source": [
    "params = {\n",
    "    'n_estimators': 100, # Number of trees in RF\n",
    "    'max_depth': 10, # max depth of each tree\n",
    "    'random_state': 321\n",
    "}"
   ]
  },
  {
   "cell_type": "code",
   "execution_count": 60,
   "metadata": {},
   "outputs": [
    {
     "name": "stdout",
     "output_type": "stream",
     "text": [
      "cuML    time for traning size     10 is 0.06 sec, accuracy 53.225207%\n",
      "Skl     time for traning size     10 is 0.08 sec, accuracy 50.764432%\n",
      "cuML    time for traning size    100 is 0.12 sec, accuracy 58.024752%\n",
      "Skl     time for traning size    100 is 0.09 sec, accuracy 58.928572%\n",
      "cuML    time for traning size     10 is 0.04 sec, accuracy 53.225207%\n",
      "Skl     time for traning size     10 is 0.09 sec, accuracy 50.764432%\n",
      "cuML    time for traning size    100 is 0.12 sec, accuracy 58.024752%\n",
      "Skl     time for traning size    100 is 0.10 sec, accuracy 58.928572%\n",
      "cuML    time for traning size   1000 is 0.16 sec, accuracy 66.361892%\n",
      "Skl     time for traning size   1000 is 0.26 sec, accuracy 66.413985%\n",
      "cuML    time for traning size  10000 is 0.17 sec, accuracy 69.957441%\n",
      "Skl     time for traning size  10000 is 2.36 sec, accuracy 70.011214%\n",
      "cuML    time for traning size  50000 is 0.25 sec, accuracy 70.828623%\n",
      "Skl     time for traning size  50000 is 12.31 sec, accuracy 70.851169%\n",
      "cuML    time for traning size 100000 is 0.36 sec, accuracy 70.947534%\n",
      "Skl     time for traning size 100000 is  nan sec, accuracy nan%\n",
      "cuML    time for traning size 200000 is 0.56 sec, accuracy 70.956624%\n",
      "Skl     time for traning size 200000 is  nan sec, accuracy nan%\n",
      "cuML    time for traning size 300000 is 0.77 sec, accuracy 70.979851%\n",
      "Skl     time for traning size 300000 is  nan sec, accuracy nan%\n",
      "cuML    time for traning size 400000 is 1.01 sec, accuracy 71.010804%\n",
      "Skl     time for traning size 400000 is  nan sec, accuracy nan%\n",
      "cuML    time for traning size 8800000 is 20.90 sec, accuracy 71.045804%\n",
      "Skl     time for traning size 8800000 is  nan sec, accuracy nan%\n"
     ]
    }
   ],
   "source": [
    "# We start with a warmup\n",
    "_ = run_benchmark(X_train_scaled, X_test_scaled, y_train, y_test, [10, 100], params)\n",
    "\n",
    "# Run the benchmark\n",
    "m_list = [10, 100, 1000, 10000, 50000, 100000, 200000, 300000, 400000, X_train.shape[0]]\n",
    "res_cuml, res_skl = run_benchmark(X_train_scaled, X_test_scaled, y_train, y_test, m_list, params)"
   ]
  },
  {
   "cell_type": "markdown",
   "metadata": {},
   "source": [
    "The trainig times can be seen here. The cuML is performing a lot better when the size of the dataset increases. There is not much difference in accuracy though. The results of the benchmark are plotted below."
   ]
  },
  {
   "cell_type": "code",
   "execution_count": 61,
   "metadata": {},
   "outputs": [
    {
     "data": {
      "image/png": "[encoded data removed]",
      "text/plain": [
       "<Figure size 1080x288 with 3 Axes>"
      ]
     },
     "metadata": {
      "needs_background": "light"
     },
     "output_type": "display_data"
    }
   ],
   "source": [
    "fig = plt.figure(figsize = (15,4))\n",
    "ax = fig.add_subplot(131)\n",
    "ax.plot(res_skl[:,0], res_skl[:,1], 'o-', label='scikit-learn')\n",
    "\n",
    "ax.plot(res_cuml[:,0], res_cuml[:,1], '>-', label='cuML')\n",
    "   \n",
    "ax.set_xlabel('n_samples')\n",
    "ax.set_ylabel('train time (s)')\n",
    "ax.legend()\n",
    "ax.set_title('time to train')\n",
    "\n",
    "ax = fig.add_subplot(132)\n",
    "ax.plot(res_skl[:,0], res_skl[:,2], 'o-', label='scikit-learn')\n",
    "ax.plot(res_cuml[:,0], res_cuml[:,2], '>-', label='cuML RF')\n",
    "ax.set_xlabel('n_samples')\n",
    "ax.set_ylabel('train predict (s)')\n",
    "ax.legend()\n",
    "ax.set_title('time to predict')\n",
    "\n",
    "ax = fig.add_subplot(133)\n",
    "ax.plot(res_skl[:,0], res_skl[:,3]*100, 'o-', label='scikit-learn')\n",
    "ax.plot(res_cuml[:,0], res_cuml[:,3]*100, '>-', label='cuML RF')\n",
    "ax.set_xlabel('n_samples')\n",
    "ax.set_ylabel('accuracy %')\n",
    "ax.legend()\n",
    "ax.set_title('accuracy')\n",
    "plt.show()"
   ]
  },
  {
   "cell_type": "markdown",
   "metadata": {},
   "source": [
    "It can be seen that the training on CPU with sklearn was taking too much time whereas the cuML was training faster. The accuracy is almost same between the two. There is less observation for sklearn here because we took less samples. But the results gives clear indications that cuML was faster than sklearn."
   ]
  },
  {
   "cell_type": "markdown",
   "metadata": {},
   "source": [
    "### XGBoost"
   ]
  },
  {
   "cell_type": "markdown",
   "metadata": {},
   "source": [
    "Let's compare the CPU and GPU training times for XGBoost algorithm."
   ]
  },
  {
   "cell_type": "code",
   "execution_count": 62,
   "metadata": {},
   "outputs": [],
   "source": [
    "import xgboost as xgb"
   ]
  },
  {
   "cell_type": "code",
   "execution_count": 63,
   "metadata": {},
   "outputs": [],
   "source": [
    "dtrain = xgb.DMatrix(X_train_scaled, label=y_train)\n",
    "dvalidation = xgb.DMatrix(X_test_scaled, label=y_test)"
   ]
  },
  {
   "cell_type": "markdown",
   "metadata": {},
   "source": [
    "The XGBoost package gives functionality to train on both CPU and GPU. There only has to be some changes in parameters. The 'tree_method' should change to hist and n_gpus should be changed to 0 to train on CPU. Below I will set the separate parameters variable for both CPU and GPU."
   ]
  },
  {
   "cell_type": "code",
   "execution_count": 64,
   "metadata": {},
   "outputs": [],
   "source": [
    "# parameters for GPU\n",
    "params_gpu = {\n",
    "    'silent': 1, 'tree_method': 'gpu_hist', 'n_gpus': 1, 'eval_metric': 'auc', \n",
    "    'objective': 'binary:logistic',\n",
    "}\n",
    "\n",
    "# parameters for CPU \n",
    "params_cpu = {\n",
    "    'silent': 1, 'tree_method': 'hist', 'n_gpus': 0, 'eval_metric': 'auc', \n",
    "    'objective': 'binary:logistic',\n",
    "}"
   ]
  },
  {
   "cell_type": "markdown",
   "metadata": {},
   "source": [
    "100 steps are enough to give us the clear undertanding of the difference."
   ]
  },
  {
   "cell_type": "code",
   "execution_count": 65,
   "metadata": {},
   "outputs": [],
   "source": [
    "# model training settings\n",
    "evallist = [(dvalidation, 'validation'), (dtrain, 'train')]\n",
    "num_round = 100"
   ]
  },
  {
   "cell_type": "code",
   "execution_count": 76,
   "metadata": {
    "scrolled": true,
    "tags": []
   },
   "outputs": [
    {
     "name": "stdout",
     "output_type": "stream",
     "text": [
      "[16:05:59] WARNING: /opt/conda/envs/rapids/conda-bld/xgboost_1639022671260/work/src/learner.cc:576: \n",
      "Parameters: { \"n_gpus\", \"silent\" } might not be used.\n",
      "\n",
      "  This could be a false alarm, with some parameters getting used by language bindings but\n",
      "  then being mistakenly passed down to XGBoost core, or some parameter actually being used\n",
      "  but getting flagged wrongly here. Please open an issue if you find any such cases.\n",
      "\n",
      "\n",
      "[0]\tvalidation-auc:0.74346\ttrain-auc:0.74303\n",
      "[1]\tvalidation-auc:0.75482\ttrain-auc:0.75451\n",
      "[2]\tvalidation-auc:0.76458\ttrain-auc:0.76433\n",
      "[3]\tvalidation-auc:0.77001\ttrain-auc:0.76988\n",
      "[4]\tvalidation-auc:0.77490\ttrain-auc:0.77481\n",
      "[5]\tvalidation-auc:0.78058\ttrain-auc:0.78058\n",
      "[6]\tvalidation-auc:0.78486\ttrain-auc:0.78496\n",
      "[7]\tvalidation-auc:0.78731\ttrain-auc:0.78747\n",
      "[8]\tvalidation-auc:0.78977\ttrain-auc:0.78991\n",
      "[9]\tvalidation-auc:0.79189\ttrain-auc:0.79205\n",
      "[10]\tvalidation-auc:0.79357\ttrain-auc:0.79377\n",
      "[11]\tvalidation-auc:0.79512\ttrain-auc:0.79533\n",
      "[12]\tvalidation-auc:0.79724\ttrain-auc:0.79750\n",
      "[13]\tvalidation-auc:0.79834\ttrain-auc:0.79860\n",
      "[14]\tvalidation-auc:0.79956\ttrain-auc:0.79983\n",
      "[15]\tvalidation-auc:0.80050\ttrain-auc:0.80076\n",
      "[16]\tvalidation-auc:0.80137\ttrain-auc:0.80165\n",
      "[17]\tvalidation-auc:0.80202\ttrain-auc:0.80231\n",
      "[18]\tvalidation-auc:0.80248\ttrain-auc:0.80279\n",
      "[19]\tvalidation-auc:0.80319\ttrain-auc:0.80352\n",
      "[20]\tvalidation-auc:0.80398\ttrain-auc:0.80432\n",
      "[21]\tvalidation-auc:0.80455\ttrain-auc:0.80491\n",
      "[22]\tvalidation-auc:0.80520\ttrain-auc:0.80559\n",
      "[23]\tvalidation-auc:0.80566\ttrain-auc:0.80606\n",
      "[24]\tvalidation-auc:0.80599\ttrain-auc:0.80640\n",
      "[25]\tvalidation-auc:0.80692\ttrain-auc:0.80735\n",
      "[26]\tvalidation-auc:0.80750\ttrain-auc:0.80794\n",
      "[27]\tvalidation-auc:0.80796\ttrain-auc:0.80842\n",
      "[28]\tvalidation-auc:0.80850\ttrain-auc:0.80898\n",
      "[29]\tvalidation-auc:0.80891\ttrain-auc:0.80940\n",
      "[30]\tvalidation-auc:0.80923\ttrain-auc:0.80975\n",
      "[31]\tvalidation-auc:0.80943\ttrain-auc:0.80997\n",
      "[32]\tvalidation-auc:0.80979\ttrain-auc:0.81034\n",
      "[33]\tvalidation-auc:0.81012\ttrain-auc:0.81070\n",
      "[34]\tvalidation-auc:0.81053\ttrain-auc:0.81112\n",
      "[35]\tvalidation-auc:0.81125\ttrain-auc:0.81187\n",
      "[36]\tvalidation-auc:0.81144\ttrain-auc:0.81207\n",
      "[37]\tvalidation-auc:0.81153\ttrain-auc:0.81217\n",
      "[38]\tvalidation-auc:0.81178\ttrain-auc:0.81243\n",
      "[39]\tvalidation-auc:0.81194\ttrain-auc:0.81262\n",
      "[40]\tvalidation-auc:0.81232\ttrain-auc:0.81301\n",
      "[41]\tvalidation-auc:0.81269\ttrain-auc:0.81339\n",
      "[42]\tvalidation-auc:0.81310\ttrain-auc:0.81380\n",
      "[43]\tvalidation-auc:0.81376\ttrain-auc:0.81448\n",
      "[44]\tvalidation-auc:0.81409\ttrain-auc:0.81481\n",
      "[45]\tvalidation-auc:0.81440\ttrain-auc:0.81514\n",
      "[46]\tvalidation-auc:0.81450\ttrain-auc:0.81525\n",
      "[47]\tvalidation-auc:0.81461\ttrain-auc:0.81537\n",
      "[48]\tvalidation-auc:0.81493\ttrain-auc:0.81569\n",
      "[49]\tvalidation-auc:0.81518\ttrain-auc:0.81595\n",
      "[50]\tvalidation-auc:0.81570\ttrain-auc:0.81650\n",
      "[51]\tvalidation-auc:0.81591\ttrain-auc:0.81672\n",
      "[52]\tvalidation-auc:0.81607\ttrain-auc:0.81690\n",
      "[53]\tvalidation-auc:0.81619\ttrain-auc:0.81704\n",
      "[54]\tvalidation-auc:0.81625\ttrain-auc:0.81712\n",
      "[55]\tvalidation-auc:0.81644\ttrain-auc:0.81732\n",
      "[56]\tvalidation-auc:0.81679\ttrain-auc:0.81766\n",
      "[57]\tvalidation-auc:0.81689\ttrain-auc:0.81777\n",
      "[58]\tvalidation-auc:0.81706\ttrain-auc:0.81795\n",
      "[59]\tvalidation-auc:0.81723\ttrain-auc:0.81813\n",
      "[60]\tvalidation-auc:0.81749\ttrain-auc:0.81840\n",
      "[61]\tvalidation-auc:0.81785\ttrain-auc:0.81878\n",
      "[62]\tvalidation-auc:0.81810\ttrain-auc:0.81905\n",
      "[63]\tvalidation-auc:0.81827\ttrain-auc:0.81923\n",
      "[64]\tvalidation-auc:0.81841\ttrain-auc:0.81940\n",
      "[65]\tvalidation-auc:0.81856\ttrain-auc:0.81957\n",
      "[66]\tvalidation-auc:0.81861\ttrain-auc:0.81964\n",
      "[67]\tvalidation-auc:0.81870\ttrain-auc:0.81973\n",
      "[68]\tvalidation-auc:0.81910\ttrain-auc:0.82012\n",
      "[69]\tvalidation-auc:0.81929\ttrain-auc:0.82031\n",
      "[70]\tvalidation-auc:0.81942\ttrain-auc:0.82045\n",
      "[71]\tvalidation-auc:0.81960\ttrain-auc:0.82065\n",
      "[72]\tvalidation-auc:0.81964\ttrain-auc:0.82070\n",
      "[73]\tvalidation-auc:0.81975\ttrain-auc:0.82082\n",
      "[74]\tvalidation-auc:0.81991\ttrain-auc:0.82100\n",
      "[75]\tvalidation-auc:0.82025\ttrain-auc:0.82135\n",
      "[76]\tvalidation-auc:0.82033\ttrain-auc:0.82144\n",
      "[77]\tvalidation-auc:0.82055\ttrain-auc:0.82168\n",
      "[78]\tvalidation-auc:0.82069\ttrain-auc:0.82184\n",
      "[79]\tvalidation-auc:0.82088\ttrain-auc:0.82203\n",
      "[80]\tvalidation-auc:0.82093\ttrain-auc:0.82210\n",
      "[81]\tvalidation-auc:0.82108\ttrain-auc:0.82226\n",
      "[82]\tvalidation-auc:0.82127\ttrain-auc:0.82245\n",
      "[83]\tvalidation-auc:0.82132\ttrain-auc:0.82252\n",
      "[84]\tvalidation-auc:0.82138\ttrain-auc:0.82258\n",
      "[85]\tvalidation-auc:0.82148\ttrain-auc:0.82269\n",
      "[86]\tvalidation-auc:0.82153\ttrain-auc:0.82276\n",
      "[87]\tvalidation-auc:0.82173\ttrain-auc:0.82297\n",
      "[88]\tvalidation-auc:0.82185\ttrain-auc:0.82310\n",
      "[89]\tvalidation-auc:0.82187\ttrain-auc:0.82313\n",
      "[90]\tvalidation-auc:0.82198\ttrain-auc:0.82326\n",
      "[91]\tvalidation-auc:0.82207\ttrain-auc:0.82335\n",
      "[92]\tvalidation-auc:0.82237\ttrain-auc:0.82368\n",
      "[93]\tvalidation-auc:0.82249\ttrain-auc:0.82381\n",
      "[94]\tvalidation-auc:0.82269\ttrain-auc:0.82402\n",
      "[95]\tvalidation-auc:0.82285\ttrain-auc:0.82420\n",
      "[96]\tvalidation-auc:0.82305\ttrain-auc:0.82440\n",
      "[97]\tvalidation-auc:0.82325\ttrain-auc:0.82461\n",
      "[98]\tvalidation-auc:0.82331\ttrain-auc:0.82469\n",
      "[99]\tvalidation-auc:0.82334\ttrain-auc:0.82473\n",
      "CPU times: user 3.29 s, sys: 67.9 ms, total: 3.36 s\n",
      "Wall time: 3.33 s\n"
     ]
    }
   ],
   "source": [
    "%%time\n",
    "\n",
    "bst_gpu = xgb.train(params_gpu, dtrain, num_round, evallist)"
   ]
  },
  {
   "cell_type": "markdown",
   "metadata": {},
   "source": [
    "The time taken for GPU training is 3.33 seconds"
   ]
  },
  {
   "cell_type": "code",
   "execution_count": 77,
   "metadata": {
    "scrolled": true,
    "tags": []
   },
   "outputs": [
    {
     "name": "stdout",
     "output_type": "stream",
     "text": [
      "[16:07:10] WARNING: /opt/conda/envs/rapids/conda-bld/xgboost_1639022671260/work/src/learner.cc:576: \n",
      "Parameters: { \"n_gpus\", \"silent\" } might not be used.\n",
      "\n",
      "  This could be a false alarm, with some parameters getting used by language bindings but\n",
      "  then being mistakenly passed down to XGBoost core, or some parameter actually being used\n",
      "  but getting flagged wrongly here. Please open an issue if you find any such cases.\n",
      "\n",
      "\n",
      "[0]\tvalidation-auc:0.74347\ttrain-auc:0.74307\n",
      "[1]\tvalidation-auc:0.75501\ttrain-auc:0.75472\n",
      "[2]\tvalidation-auc:0.76469\ttrain-auc:0.76448\n",
      "[3]\tvalidation-auc:0.77010\ttrain-auc:0.76999\n",
      "[4]\tvalidation-auc:0.77504\ttrain-auc:0.77492\n",
      "[5]\tvalidation-auc:0.78095\ttrain-auc:0.78071\n",
      "[6]\tvalidation-auc:0.78529\ttrain-auc:0.78475\n",
      "[7]\tvalidation-auc:0.78807\ttrain-auc:0.78664\n",
      "[8]\tvalidation-auc:0.79066\ttrain-auc:0.78761\n",
      "[9]\tvalidation-auc:0.79304\ttrain-auc:0.78750\n",
      "[10]\tvalidation-auc:0.79516\ttrain-auc:0.78781\n",
      "[11]\tvalidation-auc:0.79665\ttrain-auc:0.78608\n",
      "[12]\tvalidation-auc:0.79803\ttrain-auc:0.78502\n",
      "[13]\tvalidation-auc:0.79930\ttrain-auc:0.78424\n",
      "[14]\tvalidation-auc:0.80068\ttrain-auc:0.78350\n",
      "[15]\tvalidation-auc:0.80162\ttrain-auc:0.78228\n",
      "[16]\tvalidation-auc:0.80237\ttrain-auc:0.78214\n",
      "[17]\tvalidation-auc:0.80307\ttrain-auc:0.78186\n",
      "[18]\tvalidation-auc:0.80407\ttrain-auc:0.78206\n",
      "[19]\tvalidation-auc:0.80469\ttrain-auc:0.78206\n",
      "[20]\tvalidation-auc:0.80512\ttrain-auc:0.78215\n",
      "[21]\tvalidation-auc:0.80583\ttrain-auc:0.78258\n",
      "[22]\tvalidation-auc:0.80644\ttrain-auc:0.78283\n",
      "[23]\tvalidation-auc:0.80706\ttrain-auc:0.78305\n",
      "[24]\tvalidation-auc:0.80823\ttrain-auc:0.78396\n",
      "[25]\tvalidation-auc:0.80869\ttrain-auc:0.78418\n",
      "[26]\tvalidation-auc:0.80925\ttrain-auc:0.78462\n",
      "[27]\tvalidation-auc:0.80958\ttrain-auc:0.78487\n",
      "[28]\tvalidation-auc:0.81011\ttrain-auc:0.78528\n",
      "[29]\tvalidation-auc:0.81048\ttrain-auc:0.78555\n",
      "[30]\tvalidation-auc:0.81070\ttrain-auc:0.78573\n",
      "[31]\tvalidation-auc:0.81095\ttrain-auc:0.78595\n",
      "[32]\tvalidation-auc:0.81140\ttrain-auc:0.78633\n",
      "[33]\tvalidation-auc:0.81158\ttrain-auc:0.78647\n",
      "[34]\tvalidation-auc:0.81186\ttrain-auc:0.78671\n",
      "[35]\tvalidation-auc:0.81204\ttrain-auc:0.78687\n",
      "[36]\tvalidation-auc:0.81252\ttrain-auc:0.78725\n",
      "[37]\tvalidation-auc:0.81265\ttrain-auc:0.78735\n",
      "[38]\tvalidation-auc:0.81301\ttrain-auc:0.78767\n",
      "[39]\tvalidation-auc:0.81377\ttrain-auc:0.78838\n",
      "[40]\tvalidation-auc:0.81418\ttrain-auc:0.78874\n",
      "[41]\tvalidation-auc:0.81436\ttrain-auc:0.78888\n",
      "[42]\tvalidation-auc:0.81447\ttrain-auc:0.78896\n",
      "[43]\tvalidation-auc:0.81472\ttrain-auc:0.78923\n",
      "[44]\tvalidation-auc:0.81493\ttrain-auc:0.78942\n",
      "[45]\tvalidation-auc:0.81518\ttrain-auc:0.78959\n",
      "[46]\tvalidation-auc:0.81569\ttrain-auc:0.79006\n",
      "[47]\tvalidation-auc:0.81596\ttrain-auc:0.79029\n",
      "[48]\tvalidation-auc:0.81615\ttrain-auc:0.79049\n",
      "[49]\tvalidation-auc:0.81631\ttrain-auc:0.79065\n",
      "[50]\tvalidation-auc:0.81667\ttrain-auc:0.79101\n",
      "[51]\tvalidation-auc:0.81701\ttrain-auc:0.79126\n",
      "[52]\tvalidation-auc:0.81713\ttrain-auc:0.79136\n",
      "[53]\tvalidation-auc:0.81722\ttrain-auc:0.79146\n",
      "[54]\tvalidation-auc:0.81731\ttrain-auc:0.79156\n",
      "[55]\tvalidation-auc:0.81763\ttrain-auc:0.79186\n",
      "[56]\tvalidation-auc:0.81793\ttrain-auc:0.79213\n",
      "[57]\tvalidation-auc:0.81808\ttrain-auc:0.79226\n",
      "[58]\tvalidation-auc:0.81837\ttrain-auc:0.79251\n",
      "[59]\tvalidation-auc:0.81862\ttrain-auc:0.79271\n",
      "[60]\tvalidation-auc:0.81875\ttrain-auc:0.79284\n",
      "[61]\tvalidation-auc:0.81897\ttrain-auc:0.79306\n",
      "[62]\tvalidation-auc:0.81923\ttrain-auc:0.79324\n",
      "[63]\tvalidation-auc:0.81959\ttrain-auc:0.79356\n",
      "[64]\tvalidation-auc:0.81986\ttrain-auc:0.79387\n",
      "[65]\tvalidation-auc:0.82005\ttrain-auc:0.79401\n",
      "[66]\tvalidation-auc:0.82019\ttrain-auc:0.79417\n",
      "[67]\tvalidation-auc:0.82044\ttrain-auc:0.79439\n",
      "[68]\tvalidation-auc:0.82057\ttrain-auc:0.79453\n",
      "[69]\tvalidation-auc:0.82062\ttrain-auc:0.79459\n",
      "[70]\tvalidation-auc:0.82070\ttrain-auc:0.79465\n",
      "[71]\tvalidation-auc:0.82079\ttrain-auc:0.79471\n",
      "[72]\tvalidation-auc:0.82098\ttrain-auc:0.79489\n",
      "[73]\tvalidation-auc:0.82117\ttrain-auc:0.79505\n",
      "[74]\tvalidation-auc:0.82129\ttrain-auc:0.79522\n",
      "[75]\tvalidation-auc:0.82134\ttrain-auc:0.79522\n",
      "[76]\tvalidation-auc:0.82146\ttrain-auc:0.79533\n",
      "[77]\tvalidation-auc:0.82170\ttrain-auc:0.79556\n",
      "[78]\tvalidation-auc:0.82199\ttrain-auc:0.79577\n",
      "[79]\tvalidation-auc:0.82205\ttrain-auc:0.79584\n",
      "[80]\tvalidation-auc:0.82226\ttrain-auc:0.79602\n",
      "[81]\tvalidation-auc:0.82258\ttrain-auc:0.79634\n",
      "[82]\tvalidation-auc:0.82267\ttrain-auc:0.79639\n",
      "[83]\tvalidation-auc:0.82280\ttrain-auc:0.79657\n",
      "[84]\tvalidation-auc:0.82289\ttrain-auc:0.79665\n",
      "[85]\tvalidation-auc:0.82325\ttrain-auc:0.79696\n",
      "[86]\tvalidation-auc:0.82347\ttrain-auc:0.79715\n",
      "[87]\tvalidation-auc:0.82374\ttrain-auc:0.79746\n",
      "[88]\tvalidation-auc:0.82383\ttrain-auc:0.79753\n",
      "[89]\tvalidation-auc:0.82391\ttrain-auc:0.79762\n",
      "[90]\tvalidation-auc:0.82406\ttrain-auc:0.79777\n",
      "[91]\tvalidation-auc:0.82424\ttrain-auc:0.79791\n",
      "[92]\tvalidation-auc:0.82456\ttrain-auc:0.79821\n",
      "[93]\tvalidation-auc:0.82479\ttrain-auc:0.79845\n",
      "[94]\tvalidation-auc:0.82488\ttrain-auc:0.79852\n",
      "[95]\tvalidation-auc:0.82510\ttrain-auc:0.79872\n",
      "[96]\tvalidation-auc:0.82529\ttrain-auc:0.79888\n",
      "[97]\tvalidation-auc:0.82538\ttrain-auc:0.79901\n",
      "[98]\tvalidation-auc:0.82541\ttrain-auc:0.79902\n",
      "[99]\tvalidation-auc:0.82543\ttrain-auc:0.79906\n",
      "CPU times: user 27min 11s, sys: 14.2 s, total: 27min 26s\n",
      "Wall time: 1min 26s\n"
     ]
    }
   ],
   "source": [
    "%%time\n",
    "\n",
    "bst_cpu = xgb.train(params_cpu, dtrain, num_round, evallist)"
   ]
  },
  {
   "cell_type": "markdown",
   "metadata": {},
   "source": [
    "The time taken for CPU training is 26 seconds, there is a big difference. "
   ]
  },
  {
   "cell_type": "markdown",
   "metadata": {},
   "source": [
    "## Conclusion"
   ]
  },
  {
   "cell_type": "markdown",
   "metadata": {},
   "source": [
    "I have trained Random Forest and XGBoost algorithms with RAPIDS frameworks on GPU. Both the models performs well with not much difference in their evaluation scores. The accuracy score of Random Forest is 73% while XGBoost is 74%. I tried some hyperparameters optimisations for both the models but there was not much changes in their accuracies. The PCA transormations for both the models didn't perform well. The accuracy and performance mostly depends on the quality of data. Higgs boson particle detection is a difficult problem. It is a very rare particle and hard to detect. Lot of feature engineering is required to improve the quality of the data. For this reason, neural netwroks can be useful for extracting the features automatically. In the end, I performed benchmark between GPU and CPU by training the models on GPU and CPU. And obviously there was a huge difference in training times as GPU trains a lot faster than CPU."
   ]
  },
  {
   "cell_type": "code",
   "execution_count": null,
   "metadata": {},
   "outputs": [],
   "source": []
  }
 ],
 "metadata": {
  "interpreter": {
   "hash": "13eb2e2d374e1989b1aee4411b7d54fcf0488dac9d6327102b0d70b3bff01564"
  },
  "kernelspec": {
   "display_name": "Python 3 (ipykernel)",
   "language": "python",
   "name": "python3"
  },
  "language_info": {
   "codemirror_mode": {
    "name": "ipython",
    "version": 3
   },
   "file_extension": ".py",
   "mimetype": "text/x-python",
   "name": "python",
   "nbconvert_exporter": "python",
   "pygments_lexer": "ipython3",
   "version": "3.7.11"
  }
 },
 "nbformat": 4,
 "nbformat_minor": 4
}
